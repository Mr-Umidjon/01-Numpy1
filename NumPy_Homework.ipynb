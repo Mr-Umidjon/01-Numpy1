{
 "nbformat": 4,
 "nbformat_minor": 0,
 "metadata": {
  "colab": {
   "name": "NumPy Homework.ipynb",
   "provenance": [],
   "collapsed_sections": [],
   "toc_visible": true
  },
  "kernelspec": {
   "name": "python3",
   "display_name": "Python 3"
  },
  "language_info": {
   "name": "python"
  }
 },
 "cells": [
  {
   "cell_type": "code",
   "metadata": {
    "id": "ohWI9BKF1RPY"
   },
   "source": [
    "import numpy as np"
   ],
   "execution_count": 1,
   "outputs": []
  },
  {
   "cell_type": "markdown",
   "metadata": {
    "id": "-9kneZwz0_KN"
   },
   "source": [
    "### Create array"
   ]
  },
  {
   "cell_type": "markdown",
   "metadata": {
    "id": "e-onbxVxUct6"
   },
   "source": [
    "# Numerical Python"
   ]
  },
  {
   "cell_type": "code",
   "metadata": {
    "id": "mWdCLD26x4Ex"
   },
   "source": [
    "def list_arr(list1):\n",
    "    '''\n",
    "    Convert list the array\n",
    "    '''\n",
    "    arr = np.array(list1)\n",
    "    return arr"
   ],
   "execution_count": 2,
   "outputs": []
  },
  {
   "cell_type": "code",
   "execution_count": 3,
   "outputs": [
    {
     "name": "stdout",
     "output_type": "stream",
     "text": [
      "[1 2 3 4]\n",
      "<class 'numpy.ndarray'>\n"
     ]
    }
   ],
   "source": [
    "list1 = [1, 2, 3, 4]\n",
    "\n",
    "arr = list_arr(list1)\n",
    "\n",
    "print(arr)\n",
    "print(type(arr))"
   ],
   "metadata": {
    "collapsed": false,
    "pycharm": {
     "name": "#%%\n"
    }
   }
  },
  {
   "cell_type": "code",
   "metadata": {
    "id": "CXyhN3Dn3Ltl"
   },
   "source": [
    "def even_array(lst):\n",
    "    '''\n",
    "    Convert only even items to array\n",
    "    '''\n",
    "    return np.array([i for i in lst if i % 2 == 0])"
   ],
   "execution_count": 6,
   "outputs": []
  },
  {
   "cell_type": "code",
   "execution_count": 7,
   "outputs": [
    {
     "name": "stdout",
     "output_type": "stream",
     "text": [
      "[2 4]\n"
     ]
    }
   ],
   "source": [
    "list1 = [1, 2, 3, 4]\n",
    "\n",
    "arr = even_array(list1)\n",
    "\n",
    "print(arr)"
   ],
   "metadata": {
    "collapsed": false,
    "pycharm": {
     "name": "#%%\n"
    }
   }
  },
  {
   "cell_type": "markdown",
   "metadata": {
    "id": "ycMCv_Vd-yIa"
   },
   "source": [
    "## Numpy array properties\n"
   ]
  },
  {
   "cell_type": "code",
   "metadata": {
    "id": "XAFdLhfXf8G1"
   },
   "source": [
    "def arry_1D():\n",
    "    '''\n",
    "    Create any 1D array\n",
    "    '''\n",
    "    lst = []\n",
    "    # CODE\n",
    "    for i in range(10):\n",
    "        lst.append(i)\n",
    "    return np.array(lst)"
   ],
   "execution_count": 8,
   "outputs": []
  },
  {
   "cell_type": "code",
   "execution_count": 14,
   "outputs": [
    {
     "name": "stdout",
     "output_type": "stream",
     "text": [
      "[0 1 2 3 4 5 6 7 8 9]\n",
      "(10,)\n",
      "1\n"
     ]
    }
   ],
   "source": [
    "arr = arry_1D()\n",
    "\n",
    "print(arr)\n",
    "print(arr.shape)\n",
    "print(arr.ndim)"
   ],
   "metadata": {
    "collapsed": false,
    "pycharm": {
     "name": "#%%\n"
    }
   }
  },
  {
   "cell_type": "code",
   "metadata": {
    "id": "kRzgmVF7gNLv"
   },
   "source": [
    "def arry_2D():\n",
    "    '''\n",
    "    Create any 2D array\n",
    "    '''\n",
    "    lst = []\n",
    "    # CODE\n",
    "    for i in range(10):\n",
    "        row = []\n",
    "        for j in range(10):\n",
    "            row.append(j)\n",
    "        lst.append(row)\n",
    "    return np.array(lst)"
   ],
   "execution_count": 11,
   "outputs": []
  },
  {
   "cell_type": "code",
   "execution_count": 15,
   "outputs": [
    {
     "name": "stdout",
     "output_type": "stream",
     "text": [
      "[[0 1 2 3 4 5 6 7 8 9]\n",
      " [0 1 2 3 4 5 6 7 8 9]\n",
      " [0 1 2 3 4 5 6 7 8 9]\n",
      " [0 1 2 3 4 5 6 7 8 9]\n",
      " [0 1 2 3 4 5 6 7 8 9]\n",
      " [0 1 2 3 4 5 6 7 8 9]\n",
      " [0 1 2 3 4 5 6 7 8 9]\n",
      " [0 1 2 3 4 5 6 7 8 9]\n",
      " [0 1 2 3 4 5 6 7 8 9]\n",
      " [0 1 2 3 4 5 6 7 8 9]]\n",
      "(10, 10)\n",
      "2\n"
     ]
    }
   ],
   "source": [
    "arr = arry_2D()\n",
    "\n",
    "print(arr)\n",
    "print(arr.shape)\n",
    "print(arr.ndim)"
   ],
   "metadata": {
    "collapsed": false,
    "pycharm": {
     "name": "#%%\n"
    }
   }
  },
  {
   "cell_type": "code",
   "metadata": {
    "id": "2Fk_qXQ-gSbG"
   },
   "source": [
    "def arry_3D():\n",
    "    '''\n",
    "    Create any 3D array\n",
    "    '''\n",
    "    lst = []\n",
    "    # CODE\n",
    "    for i in range(5):\n",
    "        row = []\n",
    "        for j in range(5):\n",
    "            rowin = []\n",
    "            for k in range(5):\n",
    "                rowin.append(k)\n",
    "            row.append(rowin)\n",
    "        lst.append(row)\n",
    "    return np.array(lst)"
   ],
   "execution_count": 16,
   "outputs": []
  },
  {
   "cell_type": "code",
   "execution_count": 17,
   "outputs": [
    {
     "name": "stdout",
     "output_type": "stream",
     "text": [
      "[[[0 1 2 3 4]\n",
      "  [0 1 2 3 4]\n",
      "  [0 1 2 3 4]\n",
      "  [0 1 2 3 4]\n",
      "  [0 1 2 3 4]]\n",
      "\n",
      " [[0 1 2 3 4]\n",
      "  [0 1 2 3 4]\n",
      "  [0 1 2 3 4]\n",
      "  [0 1 2 3 4]\n",
      "  [0 1 2 3 4]]\n",
      "\n",
      " [[0 1 2 3 4]\n",
      "  [0 1 2 3 4]\n",
      "  [0 1 2 3 4]\n",
      "  [0 1 2 3 4]\n",
      "  [0 1 2 3 4]]\n",
      "\n",
      " [[0 1 2 3 4]\n",
      "  [0 1 2 3 4]\n",
      "  [0 1 2 3 4]\n",
      "  [0 1 2 3 4]\n",
      "  [0 1 2 3 4]]\n",
      "\n",
      " [[0 1 2 3 4]\n",
      "  [0 1 2 3 4]\n",
      "  [0 1 2 3 4]\n",
      "  [0 1 2 3 4]\n",
      "  [0 1 2 3 4]]]\n",
      "(5, 5, 5)\n",
      "3\n"
     ]
    }
   ],
   "source": [
    "arr = arry_3D()\n",
    "\n",
    "print(arr)\n",
    "print(arr.shape)\n",
    "print(arr.ndim)"
   ],
   "metadata": {
    "collapsed": false,
    "pycharm": {
     "name": "#%%\n"
    }
   }
  },
  {
   "cell_type": "markdown",
   "metadata": {
    "id": "UF_8q1iwADSL"
   },
   "source": [
    "### The shape of the array\n",
    " **shape**  - Return the shape of an array.\t\t\t\t\t\n",
    " **Returns**: tuple of ints\n",
    "\n"
   ]
  },
  {
   "cell_type": "code",
   "metadata": {
    "id": "5NUwcKfwgnkw"
   },
   "source": [
    "def arry_3x3():\n",
    "    '''\n",
    "    Create any 3x3 array\n",
    "    '''\n",
    "    lst = []\n",
    "    # CODE\n",
    "    for i in range(3):\n",
    "        row = []\n",
    "        for j in range(3):\n",
    "            row.append(j)\n",
    "        lst.append(row)\n",
    "    return np.array(lst)"
   ],
   "execution_count": 18,
   "outputs": []
  },
  {
   "cell_type": "code",
   "execution_count": 19,
   "outputs": [
    {
     "name": "stdout",
     "output_type": "stream",
     "text": [
      "[[0 1 2]\n",
      " [0 1 2]\n",
      " [0 1 2]]\n",
      "(3, 3)\n",
      "2\n"
     ]
    }
   ],
   "source": [
    "arr = arry_3x3()\n",
    "\n",
    "print(arr)\n",
    "print(arr.shape)\n",
    "print(arr.ndim)"
   ],
   "metadata": {
    "collapsed": false,
    "pycharm": {
     "name": "#%%\n"
    }
   }
  },
  {
   "cell_type": "code",
   "metadata": {
    "id": "4o9OhDoeg2da"
   },
   "source": [
    "def arry_2x3():\n",
    "    '''\n",
    "    Create lst to 2x3 array\n",
    "    return 1D\n",
    "    '''\n",
    "    lst = []\n",
    "    # CODE\n",
    "    for i in range(2):\n",
    "        row = []\n",
    "        for j in range(3):\n",
    "            row.append(j)\n",
    "        lst.append(row)\n",
    "    return np.array(lst)"
   ],
   "execution_count": 24,
   "outputs": []
  },
  {
   "cell_type": "code",
   "execution_count": 25,
   "outputs": [
    {
     "name": "stdout",
     "output_type": "stream",
     "text": [
      "[[0 1 2]\n",
      " [0 1 2]]\n",
      "(2, 3)\n",
      "2\n"
     ]
    }
   ],
   "source": [
    "arr = arry_2x3()\n",
    "\n",
    "print(arr)\n",
    "print(arr.shape)\n",
    "print(arr.ndim)"
   ],
   "metadata": {
    "collapsed": false,
    "pycharm": {
     "name": "#%%\n"
    }
   }
  },
  {
   "cell_type": "markdown",
   "metadata": {
    "id": "DTjscAaWCOBK"
   },
   "source": [
    "## The dtype of the array\n"
   ]
  },
  {
   "cell_type": "markdown",
   "metadata": {
    "id": "unlU5QsIhRA6"
   },
   "source": [
    "### np.int8"
   ]
  },
  {
   "cell_type": "code",
   "metadata": {
    "id": "MG-KNzyMiCfS"
   },
   "source": [
    "def array_dtype_int8(n):\n",
    "    '''\n",
    "    Create an array dtype int8\n",
    "    return nD array\n",
    "    '''\n",
    "    return np.full([n] * n, fill_value=n, dtype=np.int8)"
   ],
   "execution_count": 36,
   "outputs": []
  },
  {
   "cell_type": "code",
   "execution_count": 38,
   "outputs": [
    {
     "name": "stdout",
     "output_type": "stream",
     "text": [
      "[[[3 3 3]\n",
      "  [3 3 3]\n",
      "  [3 3 3]]\n",
      "\n",
      " [[3 3 3]\n",
      "  [3 3 3]\n",
      "  [3 3 3]]\n",
      "\n",
      " [[3 3 3]\n",
      "  [3 3 3]\n",
      "  [3 3 3]]]\n",
      "int8\n",
      "(3, 3, 3)\n",
      "3\n"
     ]
    }
   ],
   "source": [
    "arr = array_dtype_int8(3)\n",
    "\n",
    "print(arr)\n",
    "print(arr.dtype)\n",
    "print(arr.shape)\n",
    "print(arr.ndim)"
   ],
   "metadata": {
    "collapsed": false,
    "pycharm": {
     "name": "#%%\n"
    }
   }
  },
  {
   "cell_type": "markdown",
   "metadata": {
    "id": "GKy26IGeh2lH"
   },
   "source": [
    "### np.int16"
   ]
  },
  {
   "cell_type": "code",
   "metadata": {
    "id": "fZASIKEkAxKO"
   },
   "source": [
    "def array_dtype_int16(n):\n",
    "    '''\n",
    "    Create an array dtype int16\n",
    "    return nD array\n",
    "    '''\n",
    "    return np.full([n] * n, fill_value=n, dtype=np.int16)"
   ],
   "execution_count": 40,
   "outputs": []
  },
  {
   "cell_type": "code",
   "metadata": {
    "id": "4TYmDlh0iDV9"
   },
   "source": [
    "arr = array_dtype_int16(3)\n",
    "\n",
    "print(arr)\n",
    "print(arr.dtype)\n",
    "print(arr.shape)\n",
    "print(arr.ndim)"
   ],
   "execution_count": 41,
   "outputs": [
    {
     "name": "stdout",
     "output_type": "stream",
     "text": [
      "[[[3 3 3]\n",
      "  [3 3 3]\n",
      "  [3 3 3]]\n",
      "\n",
      " [[3 3 3]\n",
      "  [3 3 3]\n",
      "  [3 3 3]]\n",
      "\n",
      " [[3 3 3]\n",
      "  [3 3 3]\n",
      "  [3 3 3]]]\n",
      "int16\n",
      "(3, 3, 3)\n",
      "3\n"
     ]
    }
   ]
  },
  {
   "cell_type": "markdown",
   "metadata": {
    "id": "meZra9WMh2uM"
   },
   "source": [
    "### np.float"
   ]
  },
  {
   "cell_type": "code",
   "metadata": {
    "id": "QZ-oPh5XiD5O"
   },
   "source": [
    "def array_dtype_float(n):\n",
    "    '''\n",
    "    Create an array dtype float\n",
    "    return nD array\n",
    "    '''\n",
    "    return np.full([n] * n, fill_value=n, dtype=np.float64)"
   ],
   "execution_count": 44,
   "outputs": []
  },
  {
   "cell_type": "code",
   "execution_count": 45,
   "outputs": [
    {
     "name": "stdout",
     "output_type": "stream",
     "text": [
      "[[[3. 3. 3.]\n",
      "  [3. 3. 3.]\n",
      "  [3. 3. 3.]]\n",
      "\n",
      " [[3. 3. 3.]\n",
      "  [3. 3. 3.]\n",
      "  [3. 3. 3.]]\n",
      "\n",
      " [[3. 3. 3.]\n",
      "  [3. 3. 3.]\n",
      "  [3. 3. 3.]]]\n",
      "float64\n",
      "(3, 3, 3)\n",
      "3\n"
     ]
    }
   ],
   "source": [
    "arr = array_dtype_float(3)\n",
    "\n",
    "print(arr)\n",
    "print(arr.dtype)\n",
    "print(arr.shape)\n",
    "print(arr.ndim)"
   ],
   "metadata": {
    "collapsed": false,
    "pycharm": {
     "name": "#%%\n"
    }
   }
  },
  {
   "cell_type": "markdown",
   "metadata": {
    "id": "73KU9OFOh201"
   },
   "source": [
    "### np.bool"
   ]
  },
  {
   "cell_type": "code",
   "metadata": {
    "id": "pjm22u5rh1Dp"
   },
   "source": [
    "def array_dtype_bool(n):\n",
    "    '''\n",
    "    Create array dtype bool\n",
    "    return nD array\n",
    "    '''\n",
    "    return np.full([n] * n, fill_value=n, dtype=np.bool_)"
   ],
   "execution_count": 46,
   "outputs": []
  },
  {
   "cell_type": "code",
   "execution_count": 47,
   "outputs": [
    {
     "name": "stdout",
     "output_type": "stream",
     "text": [
      "[[[ True  True  True]\n",
      "  [ True  True  True]\n",
      "  [ True  True  True]]\n",
      "\n",
      " [[ True  True  True]\n",
      "  [ True  True  True]\n",
      "  [ True  True  True]]\n",
      "\n",
      " [[ True  True  True]\n",
      "  [ True  True  True]\n",
      "  [ True  True  True]]]\n",
      "bool\n",
      "(3, 3, 3)\n",
      "3\n"
     ]
    }
   ],
   "source": [
    "arr = array_dtype_bool(3)\n",
    "\n",
    "print(arr)\n",
    "print(arr.dtype)\n",
    "print(arr.shape)\n",
    "print(arr.ndim)"
   ],
   "metadata": {
    "collapsed": false,
    "pycharm": {
     "name": "#%%\n"
    }
   }
  },
  {
   "cell_type": "markdown",
   "metadata": {
    "id": "YATQKjxUK3Rv"
   },
   "source": [
    "# Creating Arrays"
   ]
  },
  {
   "cell_type": "markdown",
   "metadata": {
    "id": "JHobfj2yLLbW"
   },
   "source": [
    "### np.arange"
   ]
  },
  {
   "cell_type": "code",
   "metadata": {
    "id": "XnAfsDQwLEMG"
   },
   "source": [
    "def arange_1D_arr():\n",
    "    '''\n",
    "    Create any 1D array\n",
    "    return array\n",
    "    '''\n",
    "    return np.arange(10)"
   ],
   "execution_count": 48,
   "outputs": []
  },
  {
   "cell_type": "code",
   "execution_count": 50,
   "outputs": [
    {
     "name": "stdout",
     "output_type": "stream",
     "text": [
      "[0 1 2 3 4 5 6 7 8 9]\n",
      "int32\n",
      "(10,)\n",
      "1\n"
     ]
    }
   ],
   "source": [
    "arr = arange_1D_arr()\n",
    "\n",
    "print(arr)\n",
    "print(arr.dtype)\n",
    "print(arr.shape)\n",
    "print(arr.ndim)"
   ],
   "metadata": {
    "collapsed": false,
    "pycharm": {
     "name": "#%%\n"
    }
   }
  },
  {
   "cell_type": "code",
   "metadata": {
    "id": "mSZcdvWXMjQt"
   },
   "source": [
    "def arrange_array(n):\n",
    "    '''\n",
    "    Create any array from 0 to n\n",
    "    return array\n",
    "    '''\n",
    "    return np.arange(n)"
   ],
   "execution_count": 51,
   "outputs": []
  },
  {
   "cell_type": "code",
   "execution_count": 53,
   "outputs": [
    {
     "name": "stdout",
     "output_type": "stream",
     "text": [
      "[0 1 2 3 4 5 6 7 8 9]\n",
      "int32\n",
      "(10,)\n",
      "1\n"
     ]
    }
   ],
   "source": [
    "arr = arrange_array(10)\n",
    "\n",
    "print(arr)\n",
    "print(arr.dtype)\n",
    "print(arr.shape)\n",
    "print(arr.ndim)"
   ],
   "metadata": {
    "collapsed": false,
    "pycharm": {
     "name": "#%%\n"
    }
   }
  },
  {
   "cell_type": "markdown",
   "metadata": {
    "id": "S9gI0F69LaUt"
   },
   "source": [
    "### np.linspace"
   ]
  },
  {
   "cell_type": "code",
   "metadata": {
    "id": "L-rRhP6lLgMn"
   },
   "source": [
    "def linspace_arr(n):\n",
    "    '''\n",
    "    Create an array of the range 0 and n divided by 10\n",
    "    return array\n",
    "    '''\n",
    "    return np.linspace(0, n, num=10)"
   ],
   "execution_count": 54,
   "outputs": []
  },
  {
   "cell_type": "code",
   "execution_count": 55,
   "outputs": [
    {
     "name": "stdout",
     "output_type": "stream",
     "text": [
      "[ 0.          3.66666667  7.33333333 11.         14.66666667 18.33333333\n",
      " 22.         25.66666667 29.33333333 33.        ]\n",
      "float64\n",
      "(10,)\n",
      "1\n"
     ]
    }
   ],
   "source": [
    "arr = linspace_arr(33)\n",
    "\n",
    "print(arr)\n",
    "print(arr.dtype)\n",
    "print(arr.shape)\n",
    "print(arr.ndim)"
   ],
   "metadata": {
    "collapsed": false,
    "pycharm": {
     "name": "#%%\n"
    }
   }
  },
  {
   "cell_type": "markdown",
   "metadata": {
    "id": "znbfdVNlLkj5"
   },
   "source": [
    "### np.zeros"
   ]
  },
  {
   "cell_type": "code",
   "metadata": {
    "id": "Sqc4uRgiLqVm"
   },
   "source": [
    "def array_zeros_nxm(n, m):\n",
    "    '''\n",
    "    Create an nxm array of zeros\n",
    "    return array\n",
    "    '''\n",
    "    return np.zeros((n, m))"
   ],
   "execution_count": 58,
   "outputs": []
  },
  {
   "cell_type": "code",
   "execution_count": 59,
   "outputs": [
    {
     "name": "stdout",
     "output_type": "stream",
     "text": [
      "[[0. 0. 0. 0. 0.]\n",
      " [0. 0. 0. 0. 0.]\n",
      " [0. 0. 0. 0. 0.]]\n",
      "float64\n",
      "(3, 5)\n",
      "2\n"
     ]
    }
   ],
   "source": [
    "arr = array_zeros_nxm(3, 5)\n",
    "\n",
    "print(arr)\n",
    "print(arr.dtype)\n",
    "print(arr.shape)\n",
    "print(arr.ndim)"
   ],
   "metadata": {
    "collapsed": false,
    "pycharm": {
     "name": "#%%\n"
    }
   }
  },
  {
   "cell_type": "code",
   "metadata": {
    "id": "wGbcyOfdP5z7"
   },
   "source": [
    "def array_zeros_3D():\n",
    "    '''\n",
    "    Create any an 3D array of zeros\n",
    "    return 3D array\n",
    "    '''\n",
    "    return np.zeros((3, 3, 3))"
   ],
   "execution_count": 63,
   "outputs": []
  },
  {
   "cell_type": "code",
   "execution_count": 64,
   "outputs": [
    {
     "name": "stdout",
     "output_type": "stream",
     "text": [
      "[[[0. 0. 0.]\n",
      "  [0. 0. 0.]\n",
      "  [0. 0. 0.]]\n",
      "\n",
      " [[0. 0. 0.]\n",
      "  [0. 0. 0.]\n",
      "  [0. 0. 0.]]\n",
      "\n",
      " [[0. 0. 0.]\n",
      "  [0. 0. 0.]\n",
      "  [0. 0. 0.]]]\n",
      "float64\n",
      "(3, 3, 3)\n",
      "3\n"
     ]
    }
   ],
   "source": [
    "arr = array_zeros_3D()\n",
    "\n",
    "print(arr)\n",
    "print(arr.dtype)\n",
    "print(arr.shape)\n",
    "print(arr.ndim)"
   ],
   "metadata": {
    "collapsed": false,
    "pycharm": {
     "name": "#%%\n"
    }
   }
  },
  {
   "cell_type": "markdown",
   "metadata": {
    "id": "d7LLHKyuLr1T"
   },
   "source": [
    "### np.ones"
   ]
  },
  {
   "cell_type": "code",
   "metadata": {
    "id": "aOTueENZLyVY"
   },
   "source": [
    "def array_ones_nxm(n, m):\n",
    "    '''\n",
    "    Create an nxm array of ones\n",
    "    return array\n",
    "    '''\n",
    "    return np.ones((n, m))"
   ],
   "execution_count": 65,
   "outputs": []
  },
  {
   "cell_type": "code",
   "execution_count": 66,
   "outputs": [
    {
     "name": "stdout",
     "output_type": "stream",
     "text": [
      "[[1. 1. 1. 1. 1.]\n",
      " [1. 1. 1. 1. 1.]\n",
      " [1. 1. 1. 1. 1.]]\n",
      "float64\n",
      "(3, 5)\n",
      "2\n"
     ]
    }
   ],
   "source": [
    "arr = array_ones_nxm(3, 5)\n",
    "\n",
    "print(arr)\n",
    "print(arr.dtype)\n",
    "print(arr.shape)\n",
    "print(arr.ndim)"
   ],
   "metadata": {
    "collapsed": false,
    "pycharm": {
     "name": "#%%\n"
    }
   }
  },
  {
   "cell_type": "markdown",
   "metadata": {
    "id": "hh8j5x0zL3fP"
   },
   "source": [
    "### np.full"
   ]
  },
  {
   "cell_type": "code",
   "metadata": {
    "id": "y9hDs4wML5qq"
   },
   "source": [
    "def array_full_3D(n, m, k):\n",
    "    '''\n",
    "    Create any an 3D array of seven, shape = (n,m,k)\n",
    "    return 3D array\n",
    "    '''\n",
    "    return np.full((n, m, k), fill_value=7)"
   ],
   "execution_count": 67,
   "outputs": []
  },
  {
   "cell_type": "code",
   "execution_count": 68,
   "outputs": [
    {
     "name": "stdout",
     "output_type": "stream",
     "text": [
      "[[[7 7 7 7]\n",
      "  [7 7 7 7]\n",
      "  [7 7 7 7]\n",
      "  [7 7 7 7]\n",
      "  [7 7 7 7]]\n",
      "\n",
      " [[7 7 7 7]\n",
      "  [7 7 7 7]\n",
      "  [7 7 7 7]\n",
      "  [7 7 7 7]\n",
      "  [7 7 7 7]]\n",
      "\n",
      " [[7 7 7 7]\n",
      "  [7 7 7 7]\n",
      "  [7 7 7 7]\n",
      "  [7 7 7 7]\n",
      "  [7 7 7 7]]]\n",
      "int32\n",
      "(3, 5, 4)\n",
      "3\n"
     ]
    }
   ],
   "source": [
    "arr = array_full_3D(3, 5, 4)\n",
    "\n",
    "print(arr)\n",
    "print(arr.dtype)\n",
    "print(arr.shape)\n",
    "print(arr.ndim)"
   ],
   "metadata": {
    "collapsed": false,
    "pycharm": {
     "name": "#%%\n"
    }
   }
  },
  {
   "cell_type": "code",
   "execution_count": 69,
   "outputs": [],
   "source": [
    "!git add \"NumPy_Homework.ipynb\""
   ],
   "metadata": {
    "collapsed": false,
    "pycharm": {
     "name": "#%%\n"
    }
   }
  },
  {
   "cell_type": "code",
   "execution_count": 70,
   "outputs": [
    {
     "name": "stdout",
     "output_type": "stream",
     "text": [
      "[django-first 416774a] Numpy Part I\n",
      " 1 file changed, 187 insertions(+), 8 deletions(-)\n"
     ]
    }
   ],
   "source": [
    "!git commit -m \"Numpy Part I\""
   ],
   "metadata": {
    "collapsed": false,
    "pycharm": {
     "name": "#%%\n"
    }
   }
  },
  {
   "cell_type": "code",
   "execution_count": 71,
   "outputs": [
    {
     "name": "stderr",
     "output_type": "stream",
     "text": [
      "To https://github.com/Mr-Umidjon/01-Numpy.git\n",
      "   9d7254e..416774a  django-first -> django-first\n"
     ]
    }
   ],
   "source": [
    "!git push"
   ],
   "metadata": {
    "collapsed": false,
    "pycharm": {
     "name": "#%%\n"
    }
   }
  }
 ]
}